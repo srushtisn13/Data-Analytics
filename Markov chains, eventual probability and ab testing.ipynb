{
  "cells": [
    {
      "cell_type": "markdown",
      "metadata": {
        "id": "c6sJ6BEOzkKN"
      },
      "source": [
        "# PES University, Bangalore\n",
        "Established under Karnataka Act No. 16 of 2013"
      ]
    },
    {
      "cell_type": "markdown",
      "metadata": {
        "id": "mOlFr-Yjzoxl"
      },
      "source": [
        "UE20CS312 - Data Analytics - Worksheet 5\n",
        "Course instructor: Gowri Srinivasa, Professor Dept. of CSE, PES University\n",
        "\n",
        "Designed by Yashas Kadambi, Dept. of CSE - yashasks@pesu.pes.edu"
      ]
    },
    {
      "cell_type": "markdown",
      "source": [
        "# Markov Chains and AB Testing"
      ],
      "metadata": {
        "id": "_GsPyyRnEXzY"
      }
    },
    {
      "cell_type": "markdown",
      "source": [
        "### Prerequisites\n",
        "- Revise the following concepts\n",
        "    - Markov Chains\n",
        "    - Markov Chains with Absorbing states\n",
        "    - Calculation of eventual probability of aborbtion\n",
        "    - A/B Testing\n",
        "- Install the following software\n",
        "    - pandas\n",
        "    - numpy"
      ],
      "metadata": {
        "id": "a_2sqyzBD8qS"
      }
    },
    {
      "cell_type": "markdown",
      "source": [
        "### Points\n",
        "The problems in this worksheet are for a total of 10 points with each problem having a different weightage.\n",
        "- Problem 1: 2 points\n",
        "- Problem 2: 4 points\n",
        "- Problem 3: 4 points"
      ],
      "metadata": {
        "id": "RAkRls2vElow"
      }
    },
    {
      "cell_type": "markdown",
      "source": [
        "# Scenario 2\n",
        "\n",
        "Its a freezing day in New york, Commisioner Wench has sent a report to Captain Holt that the 99th precinct has much lower reported crimes compared to other precincts. Upon Analysis Captain Holt decides to add feedback unit along with the 4 major units to analyse this descripency. All the units are mentioned below\n",
        "\n",
        "1.   Major Crimes\n",
        "2.   Traffic\n",
        "3.   General crimes\n",
        "4.   Feedback\n",
        "5.   Theft\n",
        "\n",
        "---\n",
        "---\n",
        "<br>\n",
        "\n",
        "The initial probablity of a person going to a particular unit on a particular day is given as follows\n",
        "\n",
        "\n",
        "<br>\n",
        "\n",
        "Major Crimes | Traffic | General crimes | Feedback | Theft\n",
        ":----------: | :-----: | :------------: | :--------: | :---:\n",
        "0.3 | 0.4 | 0.1 | 0.15 | 0.05 \n",
        "<br>\n",
        "\n",
        "\n",
        "To measure how many people will go to the feedback unit, the personel files of all employees are give to the **_Move-o-Tron 99_** and it gives us the following matrix which shows us the probability of people moving from one unit to another on a particular day . It is known that the **_Move-o-Tron 99_** alwasy outputs matices which follow a first order Markov chain. \n",
        "\n",
        "| |Major Crimes|Traffic|General crimes|Feedback|Theft|\n",
        "|---|---|---|---|---|---|\n",
        "|Major Crimes|0\\.002|0\\.666|0\\.31|0\\.0|0\\.022|\n",
        "|Traffic|0\\.466|0\\.102|0\\.222|0\\.0|0\\.21|\n",
        "|General crimes|0\\.022|0\\.11|0\\.502|0\\.0|0\\.366|\n",
        "|Feedback|0\\.0|0\\.0|0\\.0|1\\.0|0\\.0|\n",
        "|Theft|0\\.11|0\\.122|0\\.066|0\\.0|0\\.702|\n",
        "\n",
        "As the people of New York are smart the will learn where all the units are present and hence the next days (day 1) distribution will be the distribution present at the end of the current day (day 0). Captain holt want to check if the matrix given by the **_Move-o-Tron_** can be used to model the footfall.\n",
        "\n"
      ],
      "metadata": {
        "id": "85iOffRu2nhi"
      }
    },
    {
      "cell_type": "markdown",
      "source": [
        "## Problem 1 (2 points)\n",
        "\n",
        "1. What technique can be used to model the probability of people going to the correct unit to report thier crime after N days? (0 points)\n",
        "2. Is the chain irreducible? Justify (0.5 point)\n",
        "3. What will be the intital probability of a person going to a particular unit after 1 day, 2 days, 10 days, 1000 days and 1001 days. (1 point)\n",
        " \n",
        " Hint: Use the  Chapman−Kolmogorov relationship\n",
        "\n",
        "     ```python\n",
        "    # C = A.B\n",
        "    matrix_C = np.dot(matrix_A, matrix_B)\n",
        "\n",
        "    # C = A.(B^4) can be replaced by\n",
        "    matrix_C = matrix_A\n",
        "    for _ in range(4):\n",
        "        matrix_C = np.dot(matrix_C, matrix_B)\n",
        "    ```\n",
        "\n",
        "4. What can you say about the markov chain from state of intital probability of a person going to a particular unit after 1000 and 1001 days? (0.5 points)"
      ],
      "metadata": {
        "id": "huFKsPfVqWJC"
      }
    },
    {
      "cell_type": "code",
      "execution_count": null,
      "metadata": {
        "id": "suNEfAXfy9dA"
      },
      "outputs": [],
      "source": [
        "# Importing Libraries\n",
        "%matplotlib inline\n",
        "import numpy as np\n",
        "import pandas as pd\n",
        "import matplotlib.pyplot as plt\n"
      ]
    },
    {
      "cell_type": "code",
      "execution_count": null,
      "metadata": {
        "id": "UbQTk1ZMPyNq"
      },
      "outputs": [],
      "source": [
        "# encoding the probabilities as a numpy array\n",
        "trans_array = np.array([\n",
        "    [0.002, 0.666, 0.31, 0, 0.022],\n",
        "    [0.466, 0.102, 0.222, 0, 0.21],\n",
        "    [0.022, 0.11, 0.502, 0, 0.366],\n",
        "    [0, 0, 0, 1, 0],\n",
        "    [0.11, 0.122, 0.066, 0, 0.702]\n",
        "])\n",
        "# ensures that the probabilities sum to 1\n",
        "assert(trans_array[0].sum() == 1.0)\n",
        "assert(trans_array[1].sum() == 1.0)\n",
        "assert(trans_array[2].sum() == 1.0)\n",
        "assert(trans_array[3].sum() == 1.0)\n",
        "assert(trans_array[4].sum() == 1.0)\n",
        "\n",
        "\n",
        "\n",
        "# encoding the initial probability of as a numpy array\n",
        "state = np.array([[0.3, 0.4, 0.1, 0.15, 0.05]])\n",
        "assert(state[0].sum() == 1.0)"
      ]
    },
    {
      "cell_type": "markdown",
      "source": [
        "---\n",
        "\n",
        "After analysing the model Captain holt calls the squad and educates them to ask people to give feedbacks. And the details of the squad are given to the **_Move-o-Tron 99_**. After reanalyising the report the **_Move-o-Tron 99_** gave out a new Matrix, which is shown below\n",
        "\n",
        "| |Major Crimes|Traffic|General crimes|Feedback|Theft|\n",
        "|---|---|---|---|---|---|\n",
        "|Major Crimes|0\\.002|0\\.666|0\\.01|0\\.02|0\\.302|\n",
        "|Traffic|0\\.466|0\\.102|0\\.02|0\\.032|0\\.38|\n",
        "|General crimes|0\\.0|0\\.0|1\\.0|0\\.0|0\\.0|\n",
        "|Feedback|0\\.0|0\\.0|0\\.0|1\\.0|0\\.0|\n",
        "|Theft|0\\.11|0\\.122|0\\.066|0\\.004|0\\.698|\n",
        "\n",
        "<br>\n",
        "Considering the new report the model has to be re-evaluated. The initial probablity of a person going to a particular unit on a particular day remains the same.\n",
        "<br>\n",
        "\n",
        "\n",
        "\n"
      ],
      "metadata": {
        "id": "sf_CCUyONV-f"
      }
    },
    {
      "cell_type": "markdown",
      "source": [
        "1. Derive a general formula using the eigen values from  transition matrix."
      ],
      "metadata": {
        "id": "nfoJhfaH4kag"
      }
    },
    {
      "cell_type": "code",
      "source": [
        "import numpy as np\n",
        "import pandas as pd"
      ],
      "metadata": {
        "id": "RSmqpemg4jgq"
      },
      "execution_count": null,
      "outputs": []
    },
    {
      "cell_type": "code",
      "source": [
        "# encoding the probabilities as a numpy array\n",
        "trans_array = np.array([\n",
        "    [0.002, 0.666, 0.31, 0, 0.022],\n",
        "    [0.466, 0.102, 0.222, 0, 0.21],\n",
        "    [0.022, 0.11, 0.502, 0, 0.366],\n",
        "    [0, 0, 0, 1, 0],\n",
        "    [0.11, 0.122, 0.066, 0, 0.702]\n",
        "])\n",
        "\n",
        "# ensures that the probabilities sum to 1\n",
        "assert(trans_array[0].sum() == 1.0)\n",
        "assert(trans_array[1].sum() == 1.0)\n",
        "assert(trans_array[2].sum() == 1.0)\n",
        "assert(trans_array[3].sum() == 1.0)\n",
        "assert(trans_array[4].sum() == 1.0)\n",
        "\n",
        "# encoding the initial probability of as a numpy array\n",
        "state = np.array([[0.3, 0.4, 0.1, 0.15, 0.05]])\n",
        "assert(state[0].sum() == 1.0)\n"
      ],
      "metadata": {
        "id": "7cO2IP4BL3PC"
      },
      "execution_count": null,
      "outputs": []
    },
    {
      "cell_type": "code",
      "source": [
        "matrix=np.array([0.3,0.4,0.1,0.15,0.05])\n",
        "matrix1=np.array([\n",
        "    [0.002, 0.666, 0.31, 0, 0.022],\n",
        "    [0.466, 0.102, 0.222, 0, 0.21],\n",
        "    [0.022, 0.11, 0.502, 0, 0.366],\n",
        "    [0, 0, 0, 1, 0],\n",
        "    [0.11, 0.122, 0.066, 0, 0.702]\n",
        "])\n",
        "\n",
        "\n",
        "matrixfin=np.dot(matrix,matrix1)\n",
        "matrixfin"
      ],
      "metadata": {
        "id": "tnvkGP4n5LNy"
      },
      "execution_count": null,
      "outputs": []
    },
    {
      "cell_type": "markdown",
      "source": [
        "2. The chain is reducible because state 4 is recurring state. \n"
      ],
      "metadata": {
        "id": "KT0L59ZL5Z2h"
      }
    },
    {
      "cell_type": "code",
      "source": [
        "#3.\n",
        "# 1 day\n",
        "matrixday1=np.dot(matrix,matrix1)\n",
        "matrixday1\n",
        "\n",
        "# 2 days\n",
        "matrixday2=matrix\n",
        "for i in range(2):\n",
        "  matrixday2=np.dot(matrixday2,matrix1)\n",
        "matrixday2\n",
        "\n",
        "# 1000 days\n",
        "matrixday1k=matrix\n",
        "for i in range(1000):\n",
        "  matrixday1k=np.dot(matrixday1k,matrix1)\n",
        "matrixday1k\n",
        "\n",
        "# 1001 days\n",
        "matrixday1k1=matrix\n",
        "for i in range(1001):\n",
        "  matrixday1k1=np.dot(matrixday1k1,matrix1)\n",
        "matrixday1k1"
      ],
      "metadata": {
        "id": "_UuoaFz86NDU"
      },
      "execution_count": null,
      "outputs": []
    },
    {
      "cell_type": "markdown",
      "source": [
        "4. We observe that it has reached steady state distribution since the probabalities for 1000 and 1001 are the same."
      ],
      "metadata": {
        "id": "coZBWp1N7G4g"
      }
    },
    {
      "cell_type": "markdown",
      "source": [
        "## Problem 2 (4 points)\n",
        "\n",
        "\n",
        "1. Is the chain irreducible? Justify (0.5 point)\n",
        "2. What will be the intital probability of a person going to a particular unit after 1 day, 2 days, 10 days, 1000 days and 1001 days. (1 point)\n",
        " \n",
        " Hint: Use the  Chapman−Kolmogorov relationship\n",
        "\n",
        "3. What can you say about the markov chain from state of intital probability of a person going to a particular unit after 1000 and 1001 days? (0.5 points)\n",
        "\n",
        "\n",
        "4. Summer Edgecombe is Confidential Informant (CI) to the Officer Kimbal Cho and comes in every day to the police station. If on the first day she goes to the Major crimes Unit what will be the probability that she gives a feedback? (2 points)\n",
        "\n",
        "    ```python\n",
        "    # np.delete()\n",
        "    # https://note.nkmk.me/en/python-numpy-delete/#:~:text=Using%20the%20NumPy%20function%20np,from%20the%20NumPy%20array%20ndarray%20.&text=Specify%20the%20axis%20(dimension)%20and,a%20slice%20or%20a%20list.\n",
        "\n",
        "    print(a)\n",
        "    # [[ 0  1  2  3]\n",
        "    #  [ 4  5  6  7]\n",
        "    #  [ 8  9 10 11]]\n",
        "\n",
        "    print(np.delete(a, 1, 0))\n",
        "    # [[ 0  1  2  3]\n",
        "    #  [ 8  9 10 11]]\n",
        "\n",
        "    print(np.delete(a, 1, 1))\n",
        "    # [[ 0  2  3]\n",
        "    #  [ 4  6  7]\n",
        "    #  [ 8 10 11]]\n",
        "\n",
        "    # Deleting multiple rows or columns\n",
        "    print(np.delete(a, [0, 3], 1))\n",
        "    # [[ 1  2]\n",
        "    #  [ 5  6]\n",
        "    #  [ 9 10]]\n",
        "\n",
        "    # Deleting rows and columns\n",
        "    print(np.delete(np.delete(a, 1, 0), 1, 1))\n",
        "    # [[ 0  2  3]\n",
        "    #  [ 8 10 11]]\n",
        "\n",
        "    # matrix multiplication or cross pdt C = A*B\n",
        "    matrix_C = matrix_A @ matrix_B # matrix_C = np.matmul(matrix_A, matrix_B)\n",
        "\n",
        "    ```"
      ],
      "metadata": {
        "id": "bVIGVQhMUthf"
      }
    },
    {
      "cell_type": "code",
      "source": [
        "# encoding the probabilities as a numpy array\n",
        "trans_array = np.array([\n",
        "    [0.002, 0.666, 0.01, 0.020, 0.302],\n",
        "    [0.466, 0.102, 0.02, 0.032, 0.38],\n",
        "    [0.0, 0.0, 1, 0.0, 0.0],\n",
        "    [0, 0, 0, 1, 0],\n",
        "    [0.11, 0.122, 0.066, 0.004, 0.698]\n",
        "])\n",
        "\n",
        "# ensures that the probabilities sum to 1\n",
        "assert(trans_array[0].sum() == 1.0)\n",
        "assert(trans_array[1].sum() == 1.0)\n",
        "assert(trans_array[2].sum() == 1.0)\n",
        "assert(trans_array[3].sum() == 1.0)\n",
        "assert(trans_array[4].sum() == 1.0)\n",
        "\n",
        "# encoding the initial probability of as a numpy array\n",
        "state = np.array([[0.3, 0.4, 0.1, 0.15, 0.05]])\n",
        "assert(state[0].sum() == 1.0)\n"
      ],
      "metadata": {
        "id": "l3JGV_zT79U-"
      },
      "execution_count": null,
      "outputs": []
    },
    {
      "cell_type": "markdown",
      "source": [
        "1. Third and fourth state cannot be reachable either directly or indirectly and hence the chain is reducible."
      ],
      "metadata": {
        "id": "6MxP4OAn7_L_"
      }
    },
    {
      "cell_type": "code",
      "source": [
        "#2.\n",
        " matrix = np.array([[0.3, 0.4, 0.1, 0.15, 0.05]])\n",
        "\n",
        "matrix1=np.array([\n",
        "    [0.002, 0.666, 0.01, 0.020, 0.302],\n",
        "    [0.466, 0.102, 0.02, 0.032, 0.38],\n",
        "    [0.0, 0.0, 1, 0.0, 0.0],\n",
        "    [0, 0, 0, 1, 0],\n",
        "    [0.11, 0.122, 0.066, 0.004, 0.698]\n",
        "])"
      ],
      "metadata": {
        "id": "WNuHBoUz8SFe"
      },
      "execution_count": null,
      "outputs": []
    },
    {
      "cell_type": "code",
      "source": [
        "# 1 day\n",
        "matrixday1=np.dot(matrix,matrix1)\n",
        "matrixday1\n",
        "\n",
        "# 2 days\n",
        "matrixday2=matrix\n",
        "for i in range(2):\n",
        "  matrixday2=np.dot(matrixday2,matrix1)\n",
        "matrixday2\n",
        "\n",
        "# 1000 days\n",
        "matrixday1k=matrix\n",
        "for i in range(1000):\n",
        "  matrixday1k=np.dot(matrixday1k,matrix1)\n",
        "matrixday1k\n",
        "\n",
        "# 1001 days\n",
        "matrixday1k1=matrix\n",
        "for i in range(1001):\n",
        "  matrixday1k1=np.dot(matrixday1k1,matrix1)\n",
        "matrixday1k1"
      ],
      "metadata": {
        "id": "RIttWVse9OLr"
      },
      "execution_count": null,
      "outputs": []
    },
    {
      "cell_type": "code",
      "source": [
        "#4.\n",
        "res=np.array([[ 0 , 1 , 2 , 3]\n",
        "  ,[ 4 , 5 , 6 , 7]\n",
        " ,  [ 8,  9, 10, 11]]\n",
        ")"
      ],
      "metadata": {
        "id": "snn5OPGtR3e8"
      },
      "execution_count": null,
      "outputs": []
    },
    {
      "cell_type": "code",
      "source": [
        "matrix = np.array([[0.3, 0.4, 0.1, 0.15, 0.05]])\n",
        "\n",
        "matrix1=np.array([\n",
        "    [0.002, 0.666, 0.01, 0.020, 0.302],\n",
        "    [0.466, 0.102, 0.02, 0.032, 0.38],\n",
        "    [0.0, 0.0, 1, 0.0, 0.0],\n",
        "    [0, 0, 0, 1, 0],\n",
        "    [0.11, 0.122, 0.066, 0.004, 0.698]\n",
        "])\n",
        "\n",
        "matfin = matrix @ matrix1 \n",
        "matfin\n"
      ],
      "metadata": {
        "id": "aZcLKE9WSAgA"
      },
      "execution_count": null,
      "outputs": []
    },
    {
      "cell_type": "markdown",
      "source": [
        "##Problem 3 (4 points)\n",
        "\n",
        "It seems that there is a bug in **_Move-o-Tron 99_** which makes general crimes and feedback units as absorbing states. After updating the software of **_Move-o-Tron 99_**, Captain Holt wants to find out the effect that Amy Santiago has on the probability of a person giving feedback. So one matrix is generated including Santiago and the other one without. \n",
        "\n",
        "Matrix 1 (With Santiago)\n",
        "\n",
        "| |Major Crimes|Traffic|General crimes|Feedback|Theft|\n",
        "|---|---|---|---|---|---|\n",
        "|Major Crimes|0\\.002|0\\.232|0\\.31|0\\.434|0\\.022|\n",
        "|Traffic|0\\.426|0\\.102|0\\.222|0\\.04|0\\.21|\n",
        "|General crimes|0\\.03|0\\.11|0\\.2|0\\.294|0\\.366|\n",
        "|Feedback|0\\.003|0\\.176|0\\.321|0\\.3|0\\.2|\n",
        "|Theft|0\\.11|0\\.422|0\\.166|0\\.1|0\\.202|\n",
        "\n",
        "Matrix 2 (Without Santiago)\n",
        "\n",
        "| |Major Crimes|Traffic|General crimes|Feedback|Theft|\n",
        "|---|---|---|---|---|---|\n",
        "|Major Crimes|0\\.11|0\\.222|0\\.092|0\\.374|0\\.202|\n",
        "|Traffic|0\\.03|0\\.11|0\\.2|0\\.294|0\\.366|\n",
        "|General crimes|0\\.002|0\\.232|0\\.31|0\\.434|0\\.022|\n",
        "|Feedback|0\\.466|0\\.102|0\\.02|0\\.032|0\\.38|\n",
        "|Theft|0\\.003|0\\.176|0\\.321|0\\.3|0\\.2|\n",
        "\n",
        "<br>\n",
        "\n",
        "1. How can you find out the effect that Santiago has on the probability of feedback? (1 point)\n",
        "\n",
        "2. What effect does Santiago have one the probability of getting feedback? (1 point)\n",
        "\n",
        "    Note: The initial probablity of a person going to a particular unit on a particular day remains the same\n",
        "\n",
        "3. Name the test Captain Holt is performing. (0.5 points)\n",
        "\n",
        "Lina Ginetti reports to Captain Holt that the there two kinds of days in the precicnt _\"There are normal days and then there are days where workflow is dismal with a tiny dash of pathetic.\"_. Captain Holt decided to sample the initial probablity of a person going to a particular unit on a good day and a bad day.\n",
        "\n",
        "4. Without the information about these inital probabilities, can you tell if there is any difference in the probability of getting a feedback? Explain. (1.5 points)\n",
        "\n"
      ],
      "metadata": {
        "id": "nyDYo_MvZNO-"
      }
    },
    {
      "cell_type": "code",
      "source": [
        "# encoding the probabilities as a numpy array\n",
        "# With Santiago\n",
        "trans_array_with_amy = np.array([\n",
        "    [0.002, 0.232, 0.31, 0.434, 0.022],\n",
        "    [0.426, 0.102, 0.222, 0.04, 0.21],\n",
        "    [0.03, 0.11, 0.20, 0.294, 0.366],\n",
        "    [0.003, 0.176, 0.321, 0.3, 0.2],\n",
        "    [0.11, 0.422, 0.166, 0.1, 0.202]\n",
        "])\n",
        "\n",
        "# Without Santiago\n",
        "trans_array_without_amy = np.array([\n",
        "    [0.11, 0.222, 0.092, 0.374, 0.202],\n",
        "    [0.03, 0.11, 0.20, 0.294, 0.366],\n",
        "    [0.002, 0.232, 0.31, 0.434, 0.022],\n",
        "    [0.466, 0.102, 0.02, 0.032, 0.38],\n",
        "    [0.003, 0.176, 0.321, 0.3, 0.2]\n",
        "])\n",
        "\n",
        "# ensures that the probabilities sum to 1\n",
        "assert(trans_array_with_amy[0].sum() == 1.0)\n",
        "assert(trans_array_with_amy[1].sum() == 1.0)\n",
        "assert(trans_array_with_amy[2].sum() == 1.0)\n",
        "assert(trans_array_with_amy[3].sum() == 1.0)\n",
        "assert(trans_array_with_amy[4].sum() == 1.0)\n",
        "\n",
        "assert(trans_array_without_amy[0].sum() == 1.0)\n",
        "assert(trans_array_without_amy[1].sum() == 1.0)\n",
        "assert(trans_array_without_amy[2].sum() == 1.0)\n",
        "assert(trans_array_without_amy[3].sum() == 1.0)\n",
        "assert(trans_array_without_amy[4].sum() == 1.0)\n",
        "\n",
        "# encoding the initial probability of as a numpy array\n",
        "state = np.array([[0.3, 0.4, 0.1, 0.15, 0.05]])\n",
        "assert(state[0].sum() == 1.0)\n"
      ],
      "metadata": {
        "id": "KYvJfAKIigsp"
      },
      "execution_count": null,
      "outputs": []
    },
    {
      "cell_type": "code",
      "source": [
        "res=state@trans_array_with_amy\n",
        "res\n",
        "\n",
        "res1=state@trans_array_without_amy\n",
        "res1"
      ],
      "metadata": {
        "id": "3MVHxiLISXSx"
      },
      "execution_count": null,
      "outputs": []
    }
  ],
  "metadata": {
    "colab": {
      "provenance": []
    },
    "kernelspec": {
      "display_name": "Python 3",
      "name": "python3"
    },
    "language_info": {
      "name": "python"
    }
  },
  "nbformat": 4,
  "nbformat_minor": 0
}